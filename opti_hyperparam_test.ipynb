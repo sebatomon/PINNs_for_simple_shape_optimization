{
 "cells": [
  {
   "cell_type": "code",
   "execution_count": 55,
   "metadata": {},
   "outputs": [],
   "source": [
    "import torch\n",
    "from torch.optim.lr_scheduler import StepLR, ExponentialLR\n",
    "import numpy as np\n",
    "import matplotlib.pyplot as plt\n",
    "\n",
    "\n",
    "\n",
    "\n",
    "\n"
   ]
  },
  {
   "cell_type": "code",
   "execution_count": 56,
   "metadata": {},
   "outputs": [],
   "source": [
    "class Net(torch.nn.Module):\n",
    "    def __init__(self):\n",
    "        super(Net, self).__init__()\n",
    "        self.hidden_layer1 = torch.nn.Linear(1, 10)\n",
    "        self.hidden_layer2 = torch.nn.Linear(10, 10)\n",
    "        self.output_layer = torch.nn.Linear(10, 1)\n",
    "\n",
    "    def forward(self, input):\n",
    "        layer1_out = torch.tanh(self.hidden_layer1(input))\n",
    "        layer2_out = torch.tanh(self.hidden_layer2(layer1_out))\n",
    "        output = self.output_layer(layer2_out)\n",
    "        return output\n",
    "\n",
    "\n",
    "def reset_net_parameters(net):\n",
    "    for layer in net.children():\n",
    "        if hasattr(layer, 'reset_parameters'):\n",
    "            layer.reset_parameters()\n",
    "\n",
    "#reset all network parameters    \n",
    "def weight_reset(m):\n",
    "    reset_parameters = getattr(m, \"reset_parameters\", None)\n",
    "    if callable(reset_parameters):\n",
    "        m.reset_parameters()\n",
    "\n",
    "net = Net()\n"
   ]
  },
  {
   "cell_type": "code",
   "execution_count": 57,
   "metadata": {},
   "outputs": [],
   "source": [
    "\n",
    "def F(x,y):\n",
    "    return (x -1)**2 + (y + 1)**2\n"
   ]
  },
  {
   "cell_type": "code",
   "execution_count": 58,
   "metadata": {},
   "outputs": [],
   "source": [
    "# x = torch.tensor([4.0], requires_grad=True)\n",
    "# y = torch.tensor([4.0], requires_grad=True)\n",
    "# list_F_loss = []\n",
    "# list_output_x = []\n",
    "# list_y = []\n",
    "\n",
    "\n",
    "\n",
    "# optimizer_x = torch.optim.Adam(net.parameters(), lr=0.01)\n",
    "# optimizer_y = torch.optim.Adam([y], lr=0.01)\n",
    "\n",
    "# for epoch in range(1000):  # Anzahl der Epochen\n",
    "#     optimizer_x.zero_grad()\n",
    "#     optimizer_y.zero_grad()\n",
    "\n",
    "#     output_x = net(x)\n",
    "#     loss = F(output_x, y)\n",
    "#     loss.backward()\n",
    "\n",
    "#     optimizer_x.step()\n",
    "#     optimizer_y.step()\n",
    "\n",
    "#     list_F_loss.append(loss.item())\n",
    "#     list_output_x.append(output_x.clone().detach().numpy())\n",
    "#     list_y.append(y.data.clone().detach().numpy())\n"
   ]
  },
  {
   "cell_type": "code",
   "execution_count": 59,
   "metadata": {},
   "outputs": [],
   "source": [
    "x = torch.tensor([4.0], requires_grad=True)\n",
    "y = torch.tensor([4.0], requires_grad=True)\n",
    "list_F_loss = []\n",
    "list_output_x = []\n",
    "list_y = []\n",
    "\n",
    "\n",
    "\n",
    "optimizer_x = torch.optim.Adam(net.parameters(), lr=0.01)\n",
    "optimizer_y = torch.optim.Adam([y], lr=0.01)\n",
    "\n",
    "for epoch in range(5):  # Anzahl der Epochen\n",
    "    optimizer_x.zero_grad()\n",
    "    \n",
    "\n",
    "\n",
    "    \n",
    "\n",
    "    for epoch2 in range(100):\n",
    "        optimizer_y.zero_grad()\n",
    "        output_x = net(x)\n",
    "        inner_loss = F(output_x, y)\n",
    "        inner_loss.backward()\n",
    "        list_F_loss.append(inner_loss.item())\n",
    "        list_output_x.append(output_x.clone().detach().numpy())\n",
    "        list_y.append(y.data.clone().detach().numpy())\n",
    "        optimizer_y.step()\n",
    "\n",
    "    optimizer_x.step()\n",
    "    \n",
    "\n",
    "\n",
    "\n",
    "list_F_loss.append(inner_loss.item())\n",
    "list_output_x.append(output_x.clone().detach().numpy())\n",
    "list_y.append(y.data.clone().detach().numpy())\n"
   ]
  },
  {
   "cell_type": "code",
   "execution_count": 60,
   "metadata": {},
   "outputs": [
    {
     "data": {
      "image/png": "[encoded data removed]",
      "text/plain": [
       "<Figure size 1000x600 with 1 Axes>"
      ]
     },
     "metadata": {},
     "output_type": "display_data"
    }
   ],
   "source": [
    "plt.figure(figsize=(10, 6))\n",
    "plt.plot(list_F_loss, label='F(x, y)')\n",
    "plt.plot(list_output_x, label='output_x')  # Plotten Sie die Werte von output_x\n",
    "plt.plot(list_y, label='y')  # Plotten Sie die Werte von y\n",
    "plt.xlabel('iteration')\n",
    "plt.ylabel('value')\n",
    "plt.legend()\n",
    "plt.show()"
   ]
  }
 ],
 "metadata": {
  "kernelspec": {
   "display_name": "Python 3",
   "language": "python",
   "name": "python3"
  },
  "language_info": {
   "codemirror_mode": {
    "name": "ipython",
    "version": 3
   },
   "file_extension": ".py",
   "mimetype": "text/x-python",
   "name": "python",
   "nbconvert_exporter": "python",
   "pygments_lexer": "ipython3",
   "version": "3.9.13"
  }
 },
 "nbformat": 4,
 "nbformat_minor": 2
}
