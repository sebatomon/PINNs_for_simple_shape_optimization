{
 "cells": [
  {
   "cell_type": "code",
   "execution_count": null,
   "metadata": {},
   "outputs": [],
   "source": [
    "import deepxde as dde\n",
    "import matplotlib.pyplot as plt\n",
    "import numpy as np\n",
    "\n",
    "from global_constants import L, R, EPS0, MU, LBD\n",
    "\n",
    "Rx = 0.3\n",
    "Ry = R**2 / Rx\n",
    "\n",
    "# Create the domain\n",
    "rect = dde.geometry.Rectangle([0, 0], [L, L])\n",
    "hole = dde.geometry.geometry_2d.Ellipse([0, 0], Rx, Ry)\n",
    "geom = rect - hole\n",
    "\n",
    "\n",
    "# Create Boundaries\n",
    "def boundary_top(x, on_boundary):\n",
    "    return on_boundary and dde.utils.isclose(x[1], L)\n",
    "\n",
    "\n",
    "def boundary_bottom(x, on_boundary):\n",
    "    return on_boundary and dde.utils.isclose(x[1], 0.0)\n",
    "\n",
    "\n",
    "def boundary_left(x, on_boundary):\n",
    "    return on_boundary and dde.utils.isclose(x[0], 0.0)\n",
    "\n",
    "\n",
    "def boundary_right(x, on_boundary):\n",
    "    return on_boundary and dde.utils.isclose(x[0], L)\n",
    "\n",
    "\n",
    "def boundary_hole(x, on_boundary):\n",
    "    return on_boundary and hole.on_boundary(x)"
   ]
  },
  {
   "cell_type": "code",
   "execution_count": null,
   "metadata": {},
   "outputs": [],
   "source": [
    "ux_left_bc = dde.icbc.DirichletBC(geom, lambda x: 0, boundary_left, component=0)\n",
    "ux_right_bc = dde.icbc.DirichletBC(geom, lambda x: EPS0 * L, boundary_right, component=0)\n",
    "uy_bottom_bc = dde.icbc.DirichletBC(geom, lambda x: 0, boundary_bottom, component=1)\n",
    "syy_top_bc = dde.icbc.DirichletBC(geom, lambda x: 0, boundary_top, component=3)\n",
    "hole_bc = dde.icbc.NeumannBC(geom, lambda x: 0, boundary_hole)"
   ]
  }
 ],
 "metadata": {
  "language_info": {
   "name": "python"
  }
 },
 "nbformat": 4,
 "nbformat_minor": 2
}
